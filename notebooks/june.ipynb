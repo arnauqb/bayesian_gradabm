{
 "cells": [
  {
   "cell_type": "code",
   "execution_count": 1,
   "id": "57f99533-8afc-4c03-9415-ba0636635008",
   "metadata": {},
   "outputs": [],
   "source": [
    "import pyro\n",
    "import torch\n",
    "import normflows as nf\n",
    "import matplotlib.pyplot as plt\n",
    "import matplotlib as mpl\n",
    "from tqdm import tqdm\n",
    "import yaml\n",
    "import corner\n",
    "import random\n",
    "import numpy as np\n",
    "mpl.rcParams[\"figure.dpi\"] = 100\n",
    "\n",
    "from grad_june import Runner\n",
    "\n",
    "#torch.autograd.detect_anomaly(check_nan=True)"
   ]
  },
  {
   "cell_type": "code",
   "execution_count": 2,
   "id": "33cc3663-ad72-467b-abc4-f75223a0acb2",
   "metadata": {},
   "outputs": [],
   "source": [
    "def set_random_seed(seed=999):\n",
    "    \"\"\"\n",
    "    Sets global seeds for testing in numpy, random, and numbaized numpy.\n",
    "    \"\"\"\n",
    "    np.random.seed(seed)\n",
    "    random.seed(seed)\n",
    "    torch.manual_seed(seed)\n",
    "    torch.cuda.manual_seed(seed)\n",
    "    return\n",
    "set_random_seed()"
   ]
  },
  {
   "cell_type": "code",
   "execution_count": 3,
   "id": "b723e8a5-ce7f-49f0-85d4-578777403a26",
   "metadata": {},
   "outputs": [],
   "source": [
    "def plot_posterior(nfm, it):\n",
    "    posteriors = nfm.sample(10000)\n",
    "    samples = posteriors[0].cpu().detach().numpy()\n",
    "    samples = np.where(~np.isnan(samples), samples, 0)\n",
    "    samples = np.where(~np.isinf(samples), samples, 0)\n",
    "    samples = np.where(np.abs(samples) < 5, samples, 0)\n",
    "    f = corner.corner(samples, labels = param_names, \n",
    "                      smooth=2, \n",
    "                      truths=true_values,\n",
    "                      show_titles=True,\n",
    "                      bins=30,\n",
    "                      range = [(-4,4) for i in range(len(true_values))])\n",
    "    #f.savefig(f\"./flow_results/posteriors/posterior_{it:03d}.png\", dpi=150, facecolor='white')\n",
    "    return"
   ]
  },
  {
   "cell_type": "code",
   "execution_count": 4,
   "id": "e5bc396a-09a8-4fb9-ba2f-1ce9da7b5e74",
   "metadata": {},
   "outputs": [],
   "source": [
    "device = \"cpu\""
   ]
  },
  {
   "cell_type": "code",
   "execution_count": 5,
   "id": "1e65de2e-e014-4635-bf2b-8125955796b1",
   "metadata": {},
   "outputs": [
    {
     "data": {
      "text/plain": [
       "array([1.30810425])"
      ]
     },
     "execution_count": 5,
     "metadata": {},
     "output_type": "execute_result"
    }
   ],
   "source": [
    "true_parameters = {\n",
    "  #\"care_home\":\n",
    "  #  {\"log_beta\": 1.3054601},\n",
    "  #\"care_visit\":\n",
    "  #  {\"log_beta\": 0.46661767},\n",
    "  #\"cinema\":\n",
    "  #  {\"log_beta\": 0.7523964},\n",
    "  #\"company\":\n",
    "  #  {\"log_beta\": 0.3428555},\n",
    "  #\"grocery\":\n",
    "  #  {\"log_beta\": 0.7523964},\n",
    "  #\"gym\":\n",
    "  #  {\"log_beta\": 0.7523964},\n",
    "  \"household\":\n",
    "    {\"log_beta\": 1.30810425},\n",
    "  #\"pub\":\n",
    "  #  {\"log_beta\": 0.7523964},\n",
    "  #\"school\":\n",
    "  #  {\"log_beta\": 0.4572914},\n",
    "  #\"university\":\n",
    "  #  {\"log_beta\": 0.34417054},\n",
    "  #\"visit\":\n",
    "  #  {\"log_beta\": 0.7523964},\n",
    "}\n",
    "n_true_parameters = len(true_parameters)\n",
    "true_values = np.array([true_parameters[key][\"log_beta\"] for key in true_parameters])\n",
    "param_names = list(true_parameters.keys())\n",
    "n_true_parameters\n",
    "true_values"
   ]
  },
  {
   "cell_type": "code",
   "execution_count": 6,
   "id": "030974d8-a76f-4fcd-a3fa-7f09bcfca26a",
   "metadata": {},
   "outputs": [],
   "source": [
    "#params = yaml.safe_load(open(\"../configs/june.yaml\"))\n",
    "params = yaml.safe_load(open(\"../configs/best_run.yaml\"))\n",
    "params[\"timer\"][\"total_days\"] = 30\n",
    "params[\"system\"][\"device\"] = \"cpu\"\n",
    "params[\"data_path\"] = \"/Users/arnull/code/gradabm-june/test/data/data.pkl\"\n",
    "for key in true_parameters:\n",
    "    params[\"networks\"][key] = true_parameters[key]\n",
    "runner = Runner.from_parameters(params)"
   ]
  },
  {
   "cell_type": "code",
   "execution_count": 7,
   "id": "3757da55-7dfc-477d-a355-780c18106b4d",
   "metadata": {
    "tags": []
   },
   "outputs": [],
   "source": [
    "true_data = runner()[0][\"cases_per_timestep\"]"
   ]
  },
  {
   "cell_type": "code",
   "execution_count": 8,
   "id": "8e3952bc-20ac-4276-a49d-170391370ec9",
   "metadata": {},
   "outputs": [
    {
     "data": {
      "image/png": "[encoded data removed]",
      "text/plain": [
       "<Figure size 340x340 with 1 Axes>"
      ]
     },
     "metadata": {},
     "output_type": "display_data"
    }
   ],
   "source": [
    "# Set up model\n",
    "\n",
    "# Define flows\n",
    "K = 4\n",
    "\n",
    "latent_size = len(true_values)\n",
    "hidden_units = 16\n",
    "hidden_layers = 2\n",
    "\n",
    "flows = []\n",
    "for i in range(K):\n",
    "    flows += [nf.flows.AutoregressiveRationalQuadraticSpline(latent_size, hidden_layers, hidden_units)]\n",
    "    flows += [nf.flows.LULinearPermute(latent_size)]\n",
    "\n",
    "# Set prior and q0\n",
    "q0 = nf.distributions.DiagGaussian(len(true_values), trainable=False)\n",
    "\n",
    "# Construct flow model\n",
    "flow = nf.NormalizingFlow(q0=q0, flows=flows)\n",
    "\n",
    "# Move model on GPU if available\n",
    "enable_cuda = True\n",
    "flow = flow.to(device)\n",
    "\n",
    "plot_posterior(flow, 0)\n",
    "plt.show()"
   ]
  },
  {
   "cell_type": "code",
   "execution_count": 9,
   "id": "39c6447f-6141-4d1e-a3a0-d66d503e1e8f",
   "metadata": {},
   "outputs": [],
   "source": [
    "def run_model(sample):\n",
    "    #print(sample)\n",
    "    for (j, name) in enumerate(true_parameters):\n",
    "        runner.model.infection_networks.networks[name].log_beta = sample[j]\n",
    "    cases_per_timestep = runner()[0][\"cases_per_timestep\"]\n",
    "    return cases_per_timestep\n",
    "\n",
    "def get_forecast_score(flow, true_data, loss_fn, n_samples=5):\n",
    "    loss = 0.0\n",
    "    for i in range(n_samples):\n",
    "        sample, lp = flow.sample()\n",
    "        #print(sample)\n",
    "        cases_per_timestep = run_model(sample)\n",
    "        #print(cases_per_timestep)\n",
    "        loss += loss_fn(cases_per_timestep, true_data)\n",
    "        #print(loss)\n",
    "    return loss / n_samples\n",
    "\n",
    "def get_regularisation(flow, true_data, n_samples=5, summarise_cond=True):\n",
    "    samples, lps = flow.sample(n_samples)\n",
    "    #log_flow = 0.\n",
    "    #for i in range(n_samples):\n",
    "    #for j in range(true_data.shape[0]):\n",
    "    #    log_flow += flow.log_prob(samples[i]).sum()\n",
    "    #log_flow /= (n_samples)\n",
    "    lps = torch.sum(lps) / n_samples\n",
    "    # Empirical mean of log of prior – uniform, so just constant/no contribution since we assume all\n",
    "    # flow samples are within prior support, even if only thanks to the clipping\n",
    "    log_prior = 0.\n",
    "    return lps - log_prior\n"
   ]
  },
  {
   "cell_type": "code",
   "execution_count": 10,
   "id": "5f1ba3e0-85c8-4244-86b9-6181b1d7275e",
   "metadata": {},
   "outputs": [
    {
     "name": "stderr",
     "output_type": "stream",
     "text": [
      "100%|████| 50/50 [01:11<00:00,  1.44s/it, fl=608, rl=-.94, val loss=1.12, best val loss=1.12]\n"
     ]
    }
   ],
   "source": [
    "# Train model\n",
    "\n",
    "parameters_to_optimize = list(flow.parameters())\n",
    "optimizer = torch.optim.Adam(parameters_to_optimize, lr=1e-3)\n",
    "loss_fn = torch.nn.MSELoss(reduction=\"mean\")\n",
    "\n",
    "\n",
    "n_epochs = 50\n",
    "n_samples_per_epoch = 10\n",
    "\n",
    "best_loss = np.inf\n",
    "loss_hist = []\n",
    "loss_hist_train = []\n",
    "\n",
    "w = torch.tensor(0., requires_grad=True)\n",
    "\n",
    "iterator = tqdm(range(n_epochs))\n",
    "\n",
    "for it in iterator:\n",
    "    optimizer.zero_grad()\n",
    "    forecast_loss = get_forecast_score(flow=flow, true_data=true_data, loss_fn=loss_fn, n_samples=n_samples_per_epoch)\n",
    "    reglrise_loss = get_regularisation(flow=flow, true_data=true_data, n_samples=n_samples_per_epoch)\n",
    "    loss = forecast_loss  + w * reglrise_loss\n",
    "    #print(loss)\n",
    "    if torch.isnan(loss):\n",
    "        print(\"loss is nan!\")\n",
    "        break\n",
    "    loss.backward()\n",
    "    \n",
    "    for name, param in flow.named_parameters():\n",
    "        if not torch.isfinite(param.grad).all():\n",
    "            print(name)\n",
    "\n",
    "    #torch.nn.utils.clip_grad_norm_(parameters_to_optimize, 1e-3)\n",
    "    loss_hist_train.append(loss.item())\n",
    "    optimizer.step()\n",
    "    \n",
    "    with torch.no_grad():\n",
    "        val_forecast_loss = get_forecast_score(flow=flow, true_data=true_data, loss_fn=loss_fn, n_samples=n_samples_per_epoch)\n",
    "        val_reglrise_loss = get_regularisation(flow=flow, true_data=true_data, n_samples=n_samples_per_epoch)\n",
    "        val_loss = val_forecast_loss + w * val_reglrise_loss\n",
    "        \n",
    "        loss_hist.append(val_loss.item())\n",
    "        if val_loss.item() < best_loss:\n",
    "            torch.save(flow.state_dict(), \"./best_model.pth\")\n",
    "            best_loss = val_loss.item()\n",
    "        iterator.set_postfix({\"fl\":forecast_loss.item(), \n",
    "                              \"rl\":reglrise_loss.item(), \n",
    "                              \"val loss\":val_loss.item(), \n",
    "                              \"best val loss\":best_loss})"
   ]
  },
  {
   "cell_type": "code",
   "execution_count": 11,
   "id": "4dc8f77a-45ea-4300-92dd-4460fbcba141",
   "metadata": {},
   "outputs": [
    {
     "data": {
      "text/plain": [
       "[<matplotlib.lines.Line2D at 0x29e765f90>]"
      ]
     },
     "execution_count": 11,
     "metadata": {},
     "output_type": "execute_result"
    },
    {
     "data": {
      "image/png": "[encoded data removed]",
      "text/plain": [
       "<Figure size 640x480 with 1 Axes>"
      ]
     },
     "metadata": {},
     "output_type": "display_data"
    }
   ],
   "source": [
    "plt.plot(loss_hist_train)"
   ]
  },
  {
   "cell_type": "code",
   "execution_count": 12,
   "id": "4f3091e4-20db-4860-b8d6-c52b5f0a8e22",
   "metadata": {},
   "outputs": [
    {
     "data": {
      "text/plain": [
       "<All keys matched successfully>"
      ]
     },
     "execution_count": 12,
     "metadata": {},
     "output_type": "execute_result"
    }
   ],
   "source": [
    "flow.load_state_dict(torch.load(\"./best_model.pth\"))"
   ]
  },
  {
   "cell_type": "code",
   "execution_count": 13,
   "id": "b56cb83c-b8e0-4948-9db8-d933512626dc",
   "metadata": {},
   "outputs": [
    {
     "data": {
      "image/png": "[encoded data removed]",
      "text/plain": [
       "<Figure size 340x340 with 1 Axes>"
      ]
     },
     "metadata": {},
     "output_type": "display_data"
    }
   ],
   "source": [
    "plot_posterior(flow, 0)"
   ]
  },
  {
   "cell_type": "code",
   "execution_count": null,
   "id": "6ceb3465-4053-4c10-a147-ef7c28afea91",
   "metadata": {},
   "outputs": [],
   "source": []
  },
  {
   "cell_type": "code",
   "execution_count": null,
   "id": "d520b657-0d6b-409d-a9a4-298b44bdb21a",
   "metadata": {},
   "outputs": [],
   "source": []
  },
  {
   "cell_type": "code",
   "execution_count": null,
   "id": "ae4eec37-528b-4884-8970-8f91bcbcccaf",
   "metadata": {},
   "outputs": [],
   "source": []
  },
  {
   "cell_type": "code",
   "execution_count": null,
   "id": "6241a01f-0b28-4d2b-aa35-d10a27b5a134",
   "metadata": {},
   "outputs": [],
   "source": []
  },
  {
   "cell_type": "code",
   "execution_count": null,
   "id": "2ea3bfe9-de32-4732-9636-8cacc5eac15e",
   "metadata": {},
   "outputs": [],
   "source": []
  }
 ],
 "metadata": {
  "kernelspec": {
   "display_name": "p10",
   "language": "python",
   "name": "p10"
  },
  "language_info": {
   "codemirror_mode": {
    "name": "ipython",
    "version": 3
   },
   "file_extension": ".py",
   "mimetype": "text/x-python",
   "name": "python",
   "nbconvert_exporter": "python",
   "pygments_lexer": "ipython3",
   "version": "3.10.8"
  }
 },
 "nbformat": 4,
 "nbformat_minor": 5
}
